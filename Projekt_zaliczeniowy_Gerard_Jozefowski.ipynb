{
 "cells": [
  {
   "cell_type": "code",
   "execution_count": 51,
   "id": "57f324a7-2c71-41a0-9a32-99fd745f0538",
   "metadata": {},
   "outputs": [],
   "source": [
    "#0 Importing library\n",
    "\n",
    "import pandas as pd\n",
    "import numpy as np\n",
    "import math\n",
    "import seaborn as sn\n",
    "from sklearn.linear_model import LogisticRegression\n",
    "import matplotlib.pyplot as plt\n",
    "from sklearn.model_selection import train_test_split\n",
    "from sklearn.preprocessing import MinMaxScaler\n",
    "from sklearn.metrics import confusion_matrix\n",
    "from sklearn.model_selection import GridSearchCV"
   ]
  },
  {
   "cell_type": "code",
   "execution_count": 52,
   "id": "2f6c056e-8f86-483c-aa4b-39e398b4e918",
   "metadata": {},
   "outputs": [],
   "source": [
    "#1 Loading Data \n",
    "def load_data():\n",
    "    path =  'https://archive.ics.uci.edu/ml/machine-learning-databases/credit-screening/crx.data'\n",
    "    cc_apps = pd.read_csv(path, header = None)\n",
    "    return cc_apps\n",
    "\n",
    "cc_apps = load_data()"
   ]
  },
  {
   "cell_type": "code",
   "execution_count": 53,
   "id": "62ffc675-f6b6-4bea-8afe-c8c4d653924c",
   "metadata": {},
   "outputs": [
    {
     "name": "stdout",
     "output_type": "stream",
     "text": [
      "Data description\n",
      "               2           7          10             14\n",
      "count  690.000000  690.000000  690.00000     690.000000\n",
      "mean     4.758725    2.223406    2.40000    1017.385507\n",
      "std      4.978163    3.346513    4.86294    5210.102598\n",
      "min      0.000000    0.000000    0.00000       0.000000\n",
      "25%      1.000000    0.165000    0.00000       0.000000\n",
      "50%      2.750000    1.000000    0.00000       5.000000\n",
      "75%      7.207500    2.625000    3.00000     395.500000\n",
      "max     28.000000   28.500000   67.00000  100000.000000\n",
      "\n",
      "\n",
      "Data Info\n",
      "<class 'pandas.core.frame.DataFrame'>\n",
      "RangeIndex: 690 entries, 0 to 689\n",
      "Data columns (total 16 columns):\n",
      " #   Column  Non-Null Count  Dtype  \n",
      "---  ------  --------------  -----  \n",
      " 0   0       690 non-null    object \n",
      " 1   1       690 non-null    object \n",
      " 2   2       690 non-null    float64\n",
      " 3   3       690 non-null    object \n",
      " 4   4       690 non-null    object \n",
      " 5   5       690 non-null    object \n",
      " 6   6       690 non-null    object \n",
      " 7   7       690 non-null    float64\n",
      " 8   8       690 non-null    object \n",
      " 9   9       690 non-null    object \n",
      " 10  10      690 non-null    int64  \n",
      " 11  11      690 non-null    object \n",
      " 12  12      690 non-null    object \n",
      " 13  13      690 non-null    object \n",
      " 14  14      690 non-null    int64  \n",
      " 15  15      690 non-null    object \n",
      "dtypes: float64(2), int64(2), object(12)\n",
      "memory usage: 86.4+ KB\n",
      "None\n",
      "\n",
      "\n",
      "Null values by columns\n",
      "0     0\n",
      "1     0\n",
      "2     0\n",
      "3     0\n",
      "4     0\n",
      "5     0\n",
      "6     0\n",
      "7     0\n",
      "8     0\n",
      "9     0\n",
      "10    0\n",
      "11    0\n",
      "12    0\n",
      "13    0\n",
      "14    0\n",
      "15    0\n",
      "dtype: int64\n"
     ]
    }
   ],
   "source": [
    "#2 Analysis of descriptive statistics\n",
    "\n",
    "def describe_data(data):\n",
    "    print(\"Data description\")\n",
    "    \n",
    "    print(data.describe())\n",
    "    \n",
    "    print('\\n')\n",
    "\n",
    "    print(\"Data Info\")\n",
    "    \n",
    "    print(data.info())\n",
    "    \n",
    "    print('\\n')\n",
    "    \n",
    "    print(\"Null values by columns\")\n",
    "    \n",
    "    print(data.isnull().sum())\n",
    "    \n",
    "describe_data(cc_apps)\n",
    "\n",
    "# Conlusions:\n",
    "    #there is no null values in the data - possible problems"
   ]
  },
  {
   "cell_type": "code",
   "execution_count": 54,
   "id": "683ea666-3396-4558-a5db-96c1f08d0799",
   "metadata": {},
   "outputs": [
    {
     "name": "stdout",
     "output_type": "stream",
     "text": [
      "    0      1       2  3  4   5   6      7  8  9   10 11 12     13   14 15\n",
      "670  b  47.17   5.835  u  g   w   v  5.500  f  f   0  f  g  00465  150  -\n",
      "671  b  25.83  12.835  u  g  cc   v  0.500  f  f   0  f  g  00000    2  -\n",
      "672  a  50.25   0.835  u  g  aa   v  0.500  f  f   0  t  g  00240  117  -\n",
      "673  ?  29.50   2.000  y  p   e   h  2.000  f  f   0  f  g  00256   17  -\n",
      "674  a  37.33   2.500  u  g   i   h  0.210  f  f   0  f  g  00260  246  -\n",
      "675  a  41.58   1.040  u  g  aa   v  0.665  f  f   0  f  g  00240  237  -\n",
      "676  a  30.58  10.665  u  g   q   h  0.085  f  t  12  t  g  00129    3  -\n",
      "677  b  19.42   7.250  u  g   m   v  0.040  f  t   1  f  g  00100    1  -\n",
      "678  a  17.92  10.210  u  g  ff  ff  0.000  f  f   0  f  g  00000   50  -\n",
      "679  a  20.08   1.250  u  g   c   v  0.000  f  f   0  f  g  00000    0  -\n",
      "680  b  19.50   0.290  u  g   k   v  0.290  f  f   0  f  g  00280  364  -\n",
      "681  b  27.83   1.000  y  p   d   h  3.000  f  f   0  f  g  00176  537  -\n",
      "682  b  17.08   3.290  u  g   i   v  0.335  f  f   0  t  g  00140    2  -\n",
      "683  b  36.42   0.750  y  p   d   v  0.585  f  f   0  f  g  00240    3  -\n",
      "684  b  40.58   3.290  u  g   m   v  3.500  f  f   0  t  s  00400    0  -\n",
      "685  b  21.08  10.085  y  p   e   h  1.250  f  f   0  f  g  00260    0  -\n",
      "686  a  22.67   0.750  u  g   c   v  2.000  f  t   2  t  g  00200  394  -\n",
      "687  a  25.25  13.500  y  p  ff  ff  2.000  f  t   1  t  g  00200    1  -\n",
      "688  b  17.92   0.205  u  g  aa   v  0.040  f  f   0  f  g  00280  750  -\n",
      "689  b  35.00   3.375  u  g   c   h  8.290  f  f   0  t  g  00000    0  -\n"
     ]
    }
   ],
   "source": [
    "print(cc_apps.tail(20))\n",
    "# there is definietly some question marks"
   ]
  },
  {
   "cell_type": "code",
   "execution_count": 55,
   "id": "46fe8310-ebc8-4189-bc29-3d2bb752d16c",
   "metadata": {},
   "outputs": [],
   "source": [
    "# counting '?' by column: \n",
    "\n",
    "def counter_function(data):\n",
    "    counter = {}\n",
    "    for row in data:\n",
    "        if row not in counter:\n",
    "            counter[row] = 0\n",
    "        counter[row] += 1\n",
    "    print(counter)"
   ]
  },
  {
   "cell_type": "code",
   "execution_count": 56,
   "id": "ee6ce740-cd5c-475e-ac73-18319c936521",
   "metadata": {},
   "outputs": [
    {
     "name": "stdout",
     "output_type": "stream",
     "text": [
      "{'b': 468, 'a': 210, '?': 12}\n",
      "{'30.83': 1, '58.67': 1, '24.50': 6, '27.83': 5, '20.17': 3, '32.08': 2, '33.17': 5, '22.92': 4, '54.42': 1, '42.50': 1, '22.08': 4, '29.92': 1, '38.25': 2, '48.08': 2, '45.83': 1, '36.67': 3, '28.25': 3, '23.25': 5, '21.83': 3, '19.17': 6, '25.00': 6, '47.75': 1, '27.42': 2, '41.17': 4, '15.83': 2, '47.00': 1, '56.58': 1, '57.42': 1, '42.08': 1, '29.25': 2, '42.00': 2, '49.50': 1, '36.75': 3, '22.58': 3, '27.25': 4, '23.00': 5, '27.75': 2, '54.58': 1, '34.17': 4, '28.92': 2, '29.67': 2, '39.58': 2, '56.42': 1, '54.33': 1, '41.00': 2, '31.92': 2, '41.50': 1, '23.92': 3, '25.75': 3, '26.00': 1, '37.42': 1, '34.92': 2, '34.25': 2, '23.33': 2, '23.17': 3, '44.33': 2, '35.17': 4, '43.25': 2, '56.75': 1, '31.67': 2, '23.42': 3, '20.42': 7, '26.67': 4, '36.00': 1, '25.50': 1, '19.42': 3, '32.33': 4, '34.83': 3, '38.58': 2, '44.25': 2, '44.83': 1, '20.67': 6, '34.08': 3, '21.67': 2, '21.50': 3, '49.58': 1, '27.67': 5, '39.83': 1, '?': 12, '37.17': 1, '25.67': 4, '34.00': 3, '49.00': 1, '62.50': 1, '31.42': 1, '52.33': 1, '28.75': 3, '28.58': 4, '22.50': 6, '28.50': 2, '37.50': 3, '35.25': 2, '18.67': 1, '54.83': 1, '40.92': 3, '19.75': 1, '29.17': 1, '24.58': 4, '33.75': 2, '25.42': 2, '37.75': 2, '52.50': 2, '57.83': 1, '20.75': 4, '39.92': 3, '24.75': 4, '44.17': 1, '23.50': 4, '47.67': 2, '22.75': 3, '34.42': 2, '28.42': 1, '67.75': 1, '47.42': 2, '36.25': 1, '32.67': 2, '48.58': 2, '33.58': 3, '18.83': 6, '26.92': 2, '31.25': 3, '56.50': 1, '43.00': 1, '22.33': 1, '32.83': 1, '40.33': 2, '30.50': 1, '52.83': 1, '46.67': 1, '58.33': 1, '37.33': 3, '23.08': 5, '32.75': 2, '68.67': 1, '28.00': 2, '44.00': 1, '25.08': 2, '32.00': 2, '60.58': 1, '40.83': 2, '19.33': 2, '41.33': 2, '56.00': 1, '49.83': 1, '22.67': 9, '27.00': 2, '26.08': 1, '18.42': 2, '21.25': 2, '57.08': 2, '22.42': 2, '48.75': 2, '40.00': 1, '40.58': 3, '28.67': 3, '33.08': 2, '21.33': 2, '41.75': 1, '34.50': 1, '48.17': 3, '27.58': 3, '24.08': 3, '24.83': 2, '36.33': 2, '35.42': 1, '71.58': 1, '39.50': 2, '39.33': 1, '24.33': 2, '60.08': 1, '55.92': 1, '53.92': 1, '18.92': 2, '50.08': 1, '65.42': 1, '17.58': 2, '18.08': 3, '19.67': 3, '25.17': 4, '33.50': 1, '58.42': 1, '26.17': 4, '42.83': 2, '38.17': 1, '20.50': 3, '48.25': 1, '28.33': 1, '18.75': 1, '18.50': 1, '45.00': 2, '40.25': 1, '41.42': 1, '17.83': 1, '18.17': 3, '20.00': 4, '52.17': 1, '50.75': 1, '17.08': 3, '18.33': 1, '59.67': 1, '18.00': 1, '37.58': 1, '30.67': 2, '18.58': 3, '16.25': 2, '21.17': 3, '17.67': 2, '16.50': 2, '29.50': 4, '21.75': 2, '18.25': 2, '35.75': 2, '16.08': 2, '69.17': 1, '32.92': 1, '16.33': 3, '22.17': 3, '57.58': 1, '15.92': 1, '31.75': 1, '19.00': 2, '17.50': 1, '33.67': 3, '30.17': 3, '33.25': 2, '25.25': 3, '34.75': 2, '47.33': 1, '39.08': 2, '42.75': 2, '38.92': 2, '62.75': 1, '32.25': 3, '26.75': 3, '63.33': 1, '30.75': 1, '16.00': 2, '19.50': 3, '32.42': 2, '30.25': 1, '26.83': 1, '16.92': 2, '24.42': 2, '39.42': 1, '23.58': 6, '21.42': 1, '33.00': 1, '26.33': 1, '26.25': 1, '28.17': 3, '20.83': 3, '43.17': 2, '56.83': 1, '15.17': 1, '29.83': 3, '31.00': 1, '51.92': 1, '69.50': 1, '19.58': 3, '22.25': 3, '38.42': 1, '26.58': 1, '35.00': 2, '29.42': 2, '49.17': 1, '51.83': 2, '58.58': 1, '53.33': 1, '27.17': 1, '25.92': 1, '30.58': 2, '17.25': 1, '27.33': 1, '36.50': 1, '29.75': 1, '52.42': 1, '36.17': 3, '34.58': 1, '21.92': 3, '36.58': 1, '31.08': 2, '30.42': 1, '21.08': 3, '17.42': 1, '39.17': 3, '26.50': 1, '17.33': 1, '23.75': 3, '34.67': 1, '74.83': 1, '45.33': 1, '47.25': 1, '24.17': 1, '39.25': 1, '39.00': 1, '64.08': 2, '31.33': 1, '21.00': 2, '13.75': 1, '46.00': 1, '20.25': 1, '60.92': 1, '30.00': 1, '22.83': 2, '45.17': 1, '41.58': 2, '55.75': 1, '25.33': 2, '31.83': 2, '33.92': 1, '24.92': 1, '80.25': 1, '30.08': 1, '48.33': 1, '76.75': 1, '51.33': 1, '41.92': 1, '29.58': 3, '32.17': 1, '51.42': 1, '42.17': 1, '43.08': 1, '59.50': 1, '65.17': 1, '20.33': 1, '48.50': 1, '28.08': 1, '73.42': 1, '51.58': 1, '38.67': 1, '46.08': 1, '20.08': 3, '42.25': 1, '16.17': 1, '47.83': 1, '22.00': 2, '38.33': 1, '25.58': 2, '21.58': 1, '36.08': 1, '38.75': 1, '35.58': 1, '31.58': 1, '15.75': 1, '17.92': 3, '30.33': 1, '47.17': 1, '25.83': 1, '50.25': 1, '36.42': 1}\n",
      "{0.0: 19, 4.46: 3, 0.5: 15, 1.54: 6, 5.625: 1, 4.0: 12, 1.04: 6, 11.585: 1, 4.915: 1, 0.83: 3, 1.835: 4, 6.0: 6, 6.04: 1, 10.5: 5, 4.415: 3, 0.875: 6, 5.875: 2, 0.25: 6, 8.585: 1, 11.25: 3, 1.0: 10, 8.0: 2, 14.5: 3, 6.5: 12, 0.585: 10, 13.0: 3, 18.5: 1, 8.5: 5, 14.79: 1, 9.79: 1, 7.585: 1, 5.125: 2, 10.75: 1, 1.5: 21, 1.585: 4, 11.75: 2, 9.415: 1, 9.17: 1, 15.0: 6, 1.415: 1, 13.915: 1, 28.0: 1, 6.75: 2, 2.04: 6, 0.665: 4, 2.5: 19, 3.0: 19, 11.625: 1, 4.5: 5, 12.25: 1, 16.165: 1, 0.79: 4, 0.835: 8, 4.25: 6, 0.375: 9, 25.125: 1, 7.5: 4, 5.0: 14, 7.0: 8, 5.29: 2, 1.165: 2, 9.75: 1, 19.0: 2, 3.5: 8, 0.625: 3, 2.21: 1, 12.75: 2, 15.5: 2, 1.375: 2, 3.54: 2, 11.0: 9, 1.75: 12, 16.5: 2, 12.0: 5, 2.25: 5, 0.75: 16, 12.5: 8, 1.25: 16, 1.125: 4, 7.04: 1, 10.335: 1, 6.21: 1, 6.665: 1, 9.0: 7, 5.5: 8, 0.54: 8, 2.75: 7, 9.5: 5, 13.5: 3, 3.75: 5, 16.0: 1, 0.29: 6, 1.665: 4, 7.54: 1, 0.46: 4, 10.0: 10, 11.5: 8, 3.04: 2, 2.0: 10, 0.08: 1, 1.71: 3, 3.25: 3, 2.54: 4, 13.585: 1, 8.665: 1, 9.25: 3, 8.17: 1, 2.335: 3, 19.5: 2, 5.665: 1, 4.625: 2, 0.205: 3, 0.96: 1, 4.04: 2, 5.04: 2, 3.165: 4, 7.625: 2, 10.04: 1, 10.25: 2, 2.125: 1, 9.335: 1, 6.625: 1, 2.71: 4, 9.625: 1, 12.54: 1, 9.54: 2, 8.46: 1, 13.75: 1, 21.0: 1, 10.125: 2, 25.085: 1, 0.21: 3, 21.5: 1, 11.125: 1, 11.045: 1, 1.335: 3, 0.085: 1, 1.21: 1, 0.165: 8, 5.71: 1, 5.415: 1, 12.625: 1, 0.58: 2, 0.415: 4, 2.415: 3, 0.335: 6, 3.125: 2, 12.125: 1, 2.875: 2, 13.665: 1, 26.335: 1, 10.29: 1, 1.29: 1, 22.0: 1, 0.125: 5, 1.085: 3, 4.085: 2, 4.71: 1, 6.165: 1, 4.585: 1, 11.46: 1, 14.585: 1, 0.17: 1, 1.625: 3, 2.085: 2, 5.085: 2, 8.125: 1, 2.835: 1, 1.79: 1, 0.705: 1, 2.165: 2, 2.29: 2, 18.125: 1, 3.085: 1, 11.665: 1, 4.125: 1, 1.08: 1, 13.335: 1, 11.835: 1, 4.79: 1, 9.96: 1, 7.08: 1, 25.21: 1, 0.67: 1, 3.79: 1, 22.29: 1, 3.335: 1, 0.42: 2, 1.46: 1, 0.04: 5, 12.33: 1, 12.335: 1, 0.915: 1, 14.0: 2, 17.75: 1, 20.0: 1, 5.25: 1, 4.165: 1, 10.915: 1, 4.75: 1, 10.415: 1, 7.835: 1, 0.71: 1, 2.46: 1, 9.585: 1, 3.625: 1, 2.665: 1, 5.835: 1, 12.835: 1, 10.665: 1, 7.25: 1, 10.21: 1, 3.29: 2, 10.085: 1, 3.375: 1}\n",
      "{'u': 519, 'y': 163, '?': 6, 'l': 2}\n",
      "{'g': 519, 'p': 163, '?': 6, 'gg': 2}\n",
      "{'w': 64, 'q': 78, 'm': 38, 'r': 3, 'cc': 41, 'k': 51, 'c': 137, 'd': 30, 'x': 38, 'i': 59, 'e': 25, 'aa': 54, 'ff': 53, 'j': 10, '?': 9}\n",
      "{'v': 399, 'h': 138, 'bb': 59, 'ff': 57, 'j': 8, 'z': 8, '?': 9, 'o': 2, 'dd': 6, 'n': 4}\n",
      "{1.25: 10, 3.04: 2, 1.5: 25, 3.75: 3, 1.71: 1, 2.5: 17, 6.5: 6, 0.04: 33, 3.96: 1, 3.165: 2, 2.165: 1, 4.335: 1, 1.0: 31, 5.0: 13, 0.25: 35, 0.96: 2, 3.17: 1, 0.665: 6, 0.75: 12, 0.835: 5, 7.875: 1, 3.085: 3, 0.5: 28, 5.165: 1, 15.0: 3, 7.0: 5, 5.04: 1, 7.96: 1, 7.585: 1, 0.415: 8, 2.0: 16, 1.835: 2, 14.415: 1, 4.5: 6, 5.335: 1, 8.625: 1, 28.5: 1, 2.625: 2, 0.125: 30, 6.04: 1, 3.5: 12, 0.165: 22, 0.875: 5, 1.75: 15, 0.0: 70, 7.415: 1, 0.085: 26, 5.75: 4, 6.0: 3, 3.0: 11, 1.585: 5, 4.29: 1, 1.54: 1, 1.46: 2, 1.625: 5, 12.5: 2, 13.5: 1, 10.75: 1, 0.375: 7, 0.585: 6, 0.455: 1, 4.0: 8, 8.5: 5, 9.46: 1, 2.25: 10, 10.0: 5, 0.795: 1, 1.375: 2, 1.29: 3, 11.5: 1, 6.29: 1, 14.0: 3, 0.335: 5, 1.21: 2, 7.375: 1, 7.5: 3, 3.25: 3, 13.0: 1, 5.5: 7, 4.25: 4, 0.625: 2, 5.085: 2, 2.75: 3, 2.375: 2, 8.0: 2, 1.085: 6, 2.54: 1, 4.165: 1, 1.665: 3, 11.0: 2, 9.0: 1, 1.335: 2, 1.415: 3, 1.96: 1, 2.585: 2, 5.125: 1, 15.5: 1, 0.71: 1, 5.665: 1, 18.0: 1, 5.25: 2, 8.665: 1, 2.29: 3, 20.0: 2, 2.46: 1, 13.875: 2, 2.085: 2, 4.58: 1, 2.71: 1, 2.04: 1, 0.29: 12, 4.75: 2, 0.46: 1, 0.21: 6, 0.54: 6, 3.335: 1, 2.335: 1, 1.165: 4, 2.415: 2, 2.79: 1, 4.625: 1, 1.04: 1, 6.75: 1, 1.875: 1, 16.0: 1, 12.75: 2, 5.375: 1, 2.125: 1, 17.5: 1, 3.125: 1, 0.79: 1, 8.29: 1}\n",
      "{'t': 361, 'f': 329}\n",
      "{'t': 295, 'f': 395}\n",
      "{1: 71, 6: 23, 0: 395, 5: 18, 7: 16, 10: 8, 3: 28, 17: 2, 2: 45, 9: 10, 8: 10, 15: 4, 11: 19, 12: 8, 40: 1, 23: 1, 4: 15, 20: 2, 67: 1, 14: 8, 16: 3, 13: 1, 19: 1}\n",
      "{'f': 374, 't': 316}\n",
      "{'g': 625, 's': 57, 'p': 8}\n",
      "{'00202': 1, '00043': 1, '00280': 22, '00100': 30, '00120': 35, '00360': 7, '00164': 3, '00080': 30, '00180': 18, '00052': 1, '00128': 3, '00260': 11, '00000': 132, '00320': 14, '00396': 2, '00096': 3, '00200': 35, '00300': 13, '00145': 2, '00500': 2, '00168': 2, '00434': 1, '00583': 1, '00030': 1, '00240': 14, '00070': 4, '00455': 1, '00311': 1, '00216': 3, '00491': 1, '00400': 9, '00239': 1, '00160': 34, '00711': 1, '00250': 1, '00520': 4, '00515': 1, '00420': 4, '?': 13, '00980': 1, '00443': 1, '00140': 16, '00094': 1, '00368': 1, '00288': 1, '00928': 1, '00188': 1, '00112': 2, '00171': 1, '00268': 1, '00167': 1, '00075': 1, '00152': 1, '00176': 3, '00329': 1, '00212': 1, '00410': 1, '00274': 1, '00375': 1, '00408': 1, '00350': 2, '00204': 1, '00040': 4, '00181': 3, '00399': 2, '00440': 4, '00093': 1, '00060': 9, '00395': 1, '00393': 1, '00021': 1, '00029': 1, '00102': 1, '00431': 1, '00370': 2, '00024': 1, '00020': 2, '00129': 2, '00510': 1, '00195': 1, '00144': 4, '00380': 5, '00049': 1, '00050': 2, '00381': 1, '00150': 3, '00117': 1, '00056': 1, '00211': 1, '00230': 1, '00156': 1, '00022': 1, '00228': 2, '00519': 1, '00253': 1, '00487': 1, '00220': 9, '00088': 2, '00073': 2, '00121': 1, '00470': 1, '00136': 2, '00132': 4, '00292': 1, '00154': 2, '00272': 3, '00340': 7, '00108': 4, '00720': 2, '00450': 1, '00232': 4, '00170': 1, '01160': 1, '00411': 1, '00460': 3, '00348': 1, '00480': 3, '00640': 1, '00372': 1, '00276': 1, '00221': 1, '00352': 2, '00141': 1, '00178': 1, '00600': 1, '00550': 1, '02000': 1, '00225': 2, '00210': 2, '00110': 2, '00356': 1, '00045': 1, '00062': 1, '00092': 2, '00174': 1, '00017': 1, '00086': 1, '00454': 1, '00254': 1, '00028': 1, '00263': 1, '00333': 1, '00312': 2, '00290': 3, '00371': 1, '00099': 1, '00252': 2, '00760': 1, '00560': 2, '00130': 2, '00523': 1, '00680': 1, '00163': 1, '00208': 1, '00383': 1, '00330': 2, '00422': 1, '00840': 1, '00432': 1, '00032': 1, '00186': 1, '00303': 1, '00349': 1, '00224': 1, '00369': 1, '00076': 1, '00231': 1, '00309': 1, '00416': 1, '00465': 1, '00256': 1}\n",
      "{0: 295, 560: 3, 824: 1, 3: 6, 31285: 1, 1349: 1, 314: 1, 1442: 1, 200: 6, 2690: 1, 245: 1, 1208: 1, 1260: 1, 11: 2, 10000: 1, 5000: 3, 4000: 3, 35: 2, 713: 1, 551: 1, 500: 10, 300: 8, 221: 1, 2283: 1, 100: 6, 15: 2, 284: 2, 1236: 1, 5800: 1, 730: 1, 400: 3, 50000: 1, 456: 2, 15108: 1, 2954: 1, 2: 9, 20: 4, 27: 2, 225: 1, 1: 29, 38: 1, 5: 8, 130: 1, 147: 1, 210: 1, 11202: 1, 1332: 1, 50: 5, 258: 1, 567: 1, 1000: 10, 2510: 1, 809: 2, 610: 1, 150: 4, 51100: 1, 367: 1, 600: 3, 247: 1, 375: 2, 278: 1, 827: 1, 2072: 1, 582: 1, 2300: 1, 3065: 2, 2200: 1, 6: 8, 1602: 1, 2184: 1, 3376: 1, 2000: 3, 7544: 1, 10561: 1, 837: 1, 11177: 1, 639: 1, 2028: 1, 1065: 1, 540: 2, 158: 1, 15000: 1, 3000: 4, 3257: 1, 1655: 1, 1430: 1, 7: 4, 790: 1, 396: 1, 678: 1, 1187: 1, 6590: 1, 168: 1, 1270: 1, 1210: 2, 742: 1, 8851: 1, 7059: 1, 1704: 1, 857: 1, 6700: 1, 2503: 1, 9800: 1, 196: 1, 14: 1, 26726: 1, 18027: 1, 99: 2, 444: 2, 1200: 2, 2010: 1, 13: 2, 120: 1, 32: 1, 722: 1, 40: 2, 484: 1, 204: 2, 98: 1, 5552: 1, 105: 1, 2803: 1, 126: 1, 4: 5, 21: 2, 173: 1, 10: 4, 25: 1, 42: 1, 100000: 1, 113: 1, 8: 2, 44: 2, 2732: 1, 179: 1, 16: 2, 1062: 1, 251: 1, 228: 1, 67: 2, 12: 1, 122: 1, 4208: 1, 1300: 1, 112: 1, 1110: 1, 1004: 1, 286: 1, 4500: 1, 1212: 1, 195: 1, 87: 1, 17: 2, 184: 1, 140: 1, 18: 3, 146: 1, 22: 1, 55: 1, 70: 1, 60: 1, 1058: 1, 769: 1, 5200: 1, 19: 2, 316: 1, 350: 2, 3552: 1, 687: 1, 1950: 1, 53: 1, 41: 1, 33: 1, 80: 1, 351: 2, 2100: 1, 475: 1, 892: 1, 4607: 1, 2206: 1, 5860: 1, 28: 2, 1391: 1, 2279: 1, 591: 1, 960: 1, 690: 1, 234: 1, 800: 1, 990: 1, 2197: 1, 90: 1, 340: 1, 347: 1, 327: 1, 4071: 1, 109: 1, 1249: 1, 134: 1, 1344: 1, 321: 1, 948: 1, 2079: 1, 2384: 1, 458: 1, 5298: 1, 162: 1, 1583: 1, 58: 1, 59: 1, 1400: 1, 1465: 1, 8000: 1, 4700: 1, 1097: 1, 3290: 1, 13212: 1, 5777: 1, 5124: 1, 23: 1, 4159: 1, 918: 1, 768: 1, 283: 1, 108: 2, 9: 1, 68: 2, 587: 1, 141: 1, 501: 1, 160: 1, 390: 1, 154: 1, 117: 1, 246: 1, 237: 1, 364: 1, 537: 1, 394: 1, 750: 1}\n",
      "{'+': 307, '-': 383}\n"
     ]
    }
   ],
   "source": [
    "for n in range(16):\n",
    "        counter_function(cc_apps[n])"
   ]
  },
  {
   "cell_type": "code",
   "execution_count": 57,
   "id": "8e12e75a-4d62-4370-9d30-8014b3fb1892",
   "metadata": {},
   "outputs": [
    {
     "name": "stdout",
     "output_type": "stream",
     "text": [
      "Data description\n",
      "               2           7          10             14\n",
      "count  690.000000  690.000000  690.00000     690.000000\n",
      "mean     4.758725    2.223406    2.40000    1017.385507\n",
      "std      4.978163    3.346513    4.86294    5210.102598\n",
      "min      0.000000    0.000000    0.00000       0.000000\n",
      "25%      1.000000    0.165000    0.00000       0.000000\n",
      "50%      2.750000    1.000000    0.00000       5.000000\n",
      "75%      7.207500    2.625000    3.00000     395.500000\n",
      "max     28.000000   28.500000   67.00000  100000.000000\n",
      "\n",
      "\n",
      "Data Info\n",
      "<class 'pandas.core.frame.DataFrame'>\n",
      "RangeIndex: 690 entries, 0 to 689\n",
      "Data columns (total 16 columns):\n",
      " #   Column  Non-Null Count  Dtype  \n",
      "---  ------  --------------  -----  \n",
      " 0   0       690 non-null    object \n",
      " 1   1       690 non-null    object \n",
      " 2   2       690 non-null    float64\n",
      " 3   3       690 non-null    object \n",
      " 4   4       690 non-null    object \n",
      " 5   5       690 non-null    object \n",
      " 6   6       690 non-null    object \n",
      " 7   7       690 non-null    float64\n",
      " 8   8       690 non-null    object \n",
      " 9   9       690 non-null    object \n",
      " 10  10      690 non-null    int64  \n",
      " 11  11      690 non-null    object \n",
      " 12  12      690 non-null    object \n",
      " 13  13      690 non-null    object \n",
      " 14  14      690 non-null    int64  \n",
      " 15  15      690 non-null    object \n",
      "dtypes: float64(2), int64(2), object(12)\n",
      "memory usage: 86.4+ KB\n",
      "None\n",
      "\n",
      "\n",
      "Null values by columns\n",
      "0     0\n",
      "1     0\n",
      "2     0\n",
      "3     0\n",
      "4     0\n",
      "5     0\n",
      "6     0\n",
      "7     0\n",
      "8     0\n",
      "9     0\n",
      "10    0\n",
      "11    0\n",
      "12    0\n",
      "13    0\n",
      "14    0\n",
      "15    0\n",
      "dtype: int64\n"
     ]
    }
   ],
   "source": [
    "# Deleting '?' with NaN\n",
    "c_apps = cc_apps.replace('?', np.NaN)\n",
    "describe_data(cc_apps)"
   ]
  },
  {
   "cell_type": "code",
   "execution_count": 58,
   "id": "da629039-7b0c-4e85-ac6e-1f0b7c991451",
   "metadata": {},
   "outputs": [
    {
     "name": "stdout",
     "output_type": "stream",
     "text": [
      "Data description\n",
      "               2           7          10             14\n",
      "count  690.000000  690.000000  690.00000     690.000000\n",
      "mean     4.758725    2.223406    2.40000    1017.385507\n",
      "std      4.978163    3.346513    4.86294    5210.102598\n",
      "min      0.000000    0.000000    0.00000       0.000000\n",
      "25%      1.000000    0.165000    0.00000       0.000000\n",
      "50%      2.750000    1.000000    0.00000       5.000000\n",
      "75%      7.207500    2.625000    3.00000     395.500000\n",
      "max     28.000000   28.500000   67.00000  100000.000000\n",
      "\n",
      "\n",
      "Data Info\n",
      "<class 'pandas.core.frame.DataFrame'>\n",
      "RangeIndex: 690 entries, 0 to 689\n",
      "Data columns (total 16 columns):\n",
      " #   Column  Non-Null Count  Dtype  \n",
      "---  ------  --------------  -----  \n",
      " 0   0       690 non-null    object \n",
      " 1   1       690 non-null    object \n",
      " 2   2       690 non-null    float64\n",
      " 3   3       690 non-null    object \n",
      " 4   4       690 non-null    object \n",
      " 5   5       690 non-null    object \n",
      " 6   6       690 non-null    object \n",
      " 7   7       690 non-null    float64\n",
      " 8   8       690 non-null    object \n",
      " 9   9       690 non-null    object \n",
      " 10  10      690 non-null    int64  \n",
      " 11  11      690 non-null    object \n",
      " 12  12      690 non-null    object \n",
      " 13  13      690 non-null    object \n",
      " 14  14      690 non-null    int64  \n",
      " 15  15      690 non-null    object \n",
      "dtypes: float64(2), int64(2), object(12)\n",
      "memory usage: 86.4+ KB\n",
      "None\n",
      "\n",
      "\n",
      "Null values by columns\n",
      "0     0\n",
      "1     0\n",
      "2     0\n",
      "3     0\n",
      "4     0\n",
      "5     0\n",
      "6     0\n",
      "7     0\n",
      "8     0\n",
      "9     0\n",
      "10    0\n",
      "11    0\n",
      "12    0\n",
      "13    0\n",
      "14    0\n",
      "15    0\n",
      "dtype: int64\n"
     ]
    }
   ],
   "source": [
    "# Dropping NA - the NaN doesn't represent that \n",
    "cc_apps = cc_apps.dropna()\n",
    "describe_data(cc_apps)"
   ]
  },
  {
   "cell_type": "code",
   "execution_count": 59,
   "id": "8f7c0c90-e419-4dfe-9279-b10fc3379931",
   "metadata": {},
   "outputs": [
    {
     "data": {
      "image/png": "[encoded data removed]",
      "text/plain": [
       "<Figure size 400x500 with 4 Axes>"
      ]
     },
     "metadata": {},
     "output_type": "display_data"
    }
   ],
   "source": [
    "#2 Data Visualisation - viusual analysis of the results\n",
    "\n",
    "#visualisation of the de\n",
    "\n",
    "def my_hist_function(data):\n",
    "    data.hist(bins=10, figsize=(4, 5))\n",
    "\n",
    "my_hist_function(cc_apps)\n",
    "# as we can see the data is highly inbalanced, in the future it may violate the modelling results # we need to logarithm it \n",
    "\n"
   ]
  },
  {
   "cell_type": "code",
   "execution_count": 60,
   "id": "233f5d66-03b1-4c92-ae08-31e978a283d8",
   "metadata": {},
   "outputs": [
    {
     "data": {
      "image/png": "[encoded data removed]",
      "text/plain": [
       "<Figure size 640x480 with 2 Axes>"
      ]
     },
     "metadata": {},
     "output_type": "display_data"
    }
   ],
   "source": [
    "# Correlation function matrix\n",
    "\n",
    "def correlation_matrix(data):\n",
    "    corr_matrix = data.corr()\n",
    "    sn.heatmap(corr_matrix, annot=True)\n",
    "    plt.show()\n",
    "    \n",
    "correlation_matrix(cc_apps)\n",
    "\n",
    "# We do not need to remove any variable as multilonearity is unlikely"
   ]
  },
  {
   "cell_type": "code",
   "execution_count": 61,
   "id": "85b2b09a-ea3e-4dd6-b53e-2c166eb8204d",
   "metadata": {},
   "outputs": [
    {
     "name": "stdout",
     "output_type": "stream",
     "text": [
      "0      object\n",
      "1      object\n",
      "2     float64\n",
      "3      object\n",
      "4      object\n",
      "5      object\n",
      "6      object\n",
      "7     float64\n",
      "8      object\n",
      "9      object\n",
      "10      int64\n",
      "11     object\n",
      "12     object\n",
      "13     object\n",
      "14      int64\n",
      "15     object\n",
      "dtype: object\n"
     ]
    }
   ],
   "source": [
    "# 3 Data transformation\n",
    "print(cc_apps.dtypes)\n"
   ]
  },
  {
   "cell_type": "code",
   "execution_count": 62,
   "id": "8e6f09a7-0977-41c7-a0f3-ffb469d23ba2",
   "metadata": {},
   "outputs": [
    {
     "name": "stdout",
     "output_type": "stream",
     "text": [
      "0.0\n",
      "0.0\n",
      "0\n",
      "0\n"
     ]
    }
   ],
   "source": [
    "for n in [2,7,10,14]:\n",
    "    print(min(cc_apps[n]))"
   ]
  },
  {
   "cell_type": "code",
   "execution_count": 63,
   "id": "1139383a-3915-4890-bf45-b3559af2c3a0",
   "metadata": {},
   "outputs": [
    {
     "data": {
      "image/png": "[encoded data removed]",
      "text/plain": [
       "<Figure size 400x500 with 4 Axes>"
      ]
     },
     "metadata": {},
     "output_type": "display_data"
    }
   ],
   "source": [
    "my_hist_function(cc_apps)\n",
    "\n",
    "# we normalised it a little bit now we can proceed to model it mathematically"
   ]
  },
  {
   "cell_type": "code",
   "execution_count": 64,
   "id": "74820662-9c33-4976-866a-7ca5e7cbe639",
   "metadata": {},
   "outputs": [
    {
     "data": {
      "image/png": "[encoded data removed]",
      "text/plain": [
       "<Figure size 400x500 with 4 Axes>"
      ]
     },
     "metadata": {},
     "output_type": "display_data"
    }
   ],
   "source": [
    "for n in [2,7,10,14]:\n",
    "    cc_apps[n] = cc_apps[n] + 10\n",
    "    cc_apps[n] = np.log(cc_apps[n])\n",
    "my_hist_function(cc_apps)\n",
    "\n",
    "# now we can proceed to model it"
   ]
  },
  {
   "cell_type": "code",
   "execution_count": 65,
   "id": "e2be09bc-8e95-4cf2-815f-571cd2a2fadc",
   "metadata": {},
   "outputs": [],
   "source": [
    "#4 Data pre-processing\n",
    "\n",
    "# Dropping 11 and 13 - zip codes and driver license\n",
    "cc_apps = cc_apps.drop([11, 13], axis=1)"
   ]
  },
  {
   "cell_type": "code",
   "execution_count": 66,
   "id": "8ff3ee14-2ffe-4adb-9235-d237d5a2415b",
   "metadata": {},
   "outputs": [],
   "source": [
    "# Dividing the data\n",
    "\n",
    "cc_apps_train, cc_apps_test = train_test_split(cc_apps, test_size=0.33, random_state=42)"
   ]
  },
  {
   "cell_type": "code",
   "execution_count": 93,
   "id": "121a78fe-fbf3-4d20-b7c9-9d1b70e869a2",
   "metadata": {},
   "outputs": [],
   "source": [
    "# Transforamcja zmiennych jakosciowych na zmienne dummies\n",
    "def dummies(data):\n",
    "    data = pd.get_dummies(data)\n"
   ]
  },
  {
   "cell_type": "code",
   "execution_count": 94,
   "id": "3b3eea8c-5daf-42fe-acee-f228a4c98463",
   "metadata": {},
   "outputs": [],
   "source": [
    "dummies(cc_apps_train)\n",
    "dummies(cc_apps_test)\n",
    "\n",
    "cc_apps_test = cc_apps_test.reindex(columns=cc_apps_train.columns,\n",
    "                                    fill_value=0)"
   ]
  },
  {
   "cell_type": "code",
   "execution_count": 95,
   "id": "4e0d8358-06a5-4e48-a41e-ea1ba4753a55",
   "metadata": {},
   "outputs": [],
   "source": [
    "# Podział na zmienną zależną i zmienną niezależną\n",
    "X_train, y_train = cc_apps_train.iloc[:, :-1].values, cc_apps_train.iloc[:, [-1]].values\n",
    "X_test, y_test = cc_apps_test.iloc[:, :-1].values, cc_apps_test.iloc[:, [-1]].values\n"
   ]
  },
  {
   "cell_type": "code",
   "execution_count": 79,
   "id": "bde62781-28f4-4678-a612-69fcd031343b",
   "metadata": {},
   "outputs": [
    {
     "data": {
      "text/plain": [
       "array([[0.17295317, 0.33821172, 0.        , ..., 0.        , 0.        ,\n",
       "        0.        ],\n",
       "       [0.18830171, 0.32238108, 0.2302562 , ..., 0.        , 0.        ,\n",
       "        1.        ],\n",
       "       [0.1083261 , 0.02247618, 0.        , ..., 0.        , 0.        ,\n",
       "        0.        ],\n",
       "       ...,\n",
       "       [0.        , 0.        , 0.        , ..., 1.        , 0.        ,\n",
       "        1.        ],\n",
       "       [0.        , 0.        , 0.16483876, ..., 0.        , 0.        ,\n",
       "        0.        ],\n",
       "       [0.3142662 , 0.03350952, 0.08931988, ..., 0.        , 0.        ,\n",
       "        0.        ]])"
      ]
     },
     "execution_count": 79,
     "metadata": {},
     "output_type": "execute_result"
    }
   ],
   "source": []
  },
  {
   "cell_type": "code",
   "execution_count": 101,
   "id": "547adf72-cd7c-4a40-a83e-8f46f6828b6c",
   "metadata": {},
   "outputs": [
    {
     "name": "stderr",
     "output_type": "stream",
     "text": [
      "C:\\Users\\User\\anaconda_the_righ_one\\lib\\site-packages\\sklearn\\utils\\validation.py:993: DataConversionWarning: A column-vector y was passed when a 1d array was expected. Please change the shape of y to (n_samples, ), for example using ravel().\n",
      "  y = column_or_1d(y, warn=True)\n"
     ]
    },
    {
     "data": {
      "text/plain": [
       "LogisticRegression()"
      ]
     },
     "execution_count": 101,
     "metadata": {},
     "output_type": "execute_result"
    }
   ],
   "source": [
    "# tworzenie obiektu regresja\n",
    "logreg = LogisticRegression()\n",
    "\n",
    "# dopasowanie regresji\n",
    "logreg.fit(X_train,y_train)\n"
   ]
  },
  {
   "cell_type": "code",
   "execution_count": 103,
   "id": "ffa1d353-62f5-4e2e-b11f-cf72ed36de74",
   "metadata": {},
   "outputs": [
    {
     "name": "stdout",
     "output_type": "stream",
     "text": [
      "Accuracy of logistic regression classifier:  1.0\n"
     ]
    },
    {
     "data": {
      "text/plain": [
       "array([[103,   0],\n",
       "       [  0, 125]], dtype=int64)"
      ]
     },
     "execution_count": 103,
     "metadata": {},
     "output_type": "execute_result"
    }
   ],
   "source": [
    "# Import confusion_matrix\n",
    "\n",
    "# Use logreg to predict instances from the test set and store it\n",
    "y_pred = logreg.predict(X_test)\n",
    "\n",
    "# Get the accuracy score of logreg model and print it\n",
    "print(\"Accuracy of logistic regression classifier: \", logreg.score(X_test,y_test))\n",
    "\n",
    "# Print the confusion matrix of the logreg model\n",
    "confusion_matrix(y_test,y_pred)\n",
    "\n"
   ]
  },
  {
   "cell_type": "code",
   "execution_count": 98,
   "id": "3e7b4552-74e6-4601-befd-98f733cde305",
   "metadata": {},
   "outputs": [],
   "source": [
    "# Import GridSearchCV\n",
    "\n",
    "# Define the grid of values for tol and max_iter\n",
    "tol = [0.01, 0.001 ,0.0001]\n",
    "max_iter = [100, 150, 200]\n",
    "\n",
    "# Create a dictionary where tol and max_iter are keys and the lists of their values are the corresponding values\n",
    "param_grid = dict(tol=tol, max_iter=max_iter)\n",
    "\n"
   ]
  },
  {
   "cell_type": "code",
   "execution_count": 99,
   "id": "e5528827-2509-4997-890d-1e35e2533740",
   "metadata": {},
   "outputs": [
    {
     "name": "stderr",
     "output_type": "stream",
     "text": [
      "C:\\Users\\User\\anaconda_the_righ_one\\lib\\site-packages\\sklearn\\utils\\validation.py:993: DataConversionWarning: A column-vector y was passed when a 1d array was expected. Please change the shape of y to (n_samples, ), for example using ravel().\n",
      "  y = column_or_1d(y, warn=True)\n",
      "C:\\Users\\User\\anaconda_the_righ_one\\lib\\site-packages\\sklearn\\utils\\validation.py:993: DataConversionWarning: A column-vector y was passed when a 1d array was expected. Please change the shape of y to (n_samples, ), for example using ravel().\n",
      "  y = column_or_1d(y, warn=True)\n",
      "C:\\Users\\User\\anaconda_the_righ_one\\lib\\site-packages\\sklearn\\utils\\validation.py:993: DataConversionWarning: A column-vector y was passed when a 1d array was expected. Please change the shape of y to (n_samples, ), for example using ravel().\n",
      "  y = column_or_1d(y, warn=True)\n",
      "C:\\Users\\User\\anaconda_the_righ_one\\lib\\site-packages\\sklearn\\utils\\validation.py:993: DataConversionWarning: A column-vector y was passed when a 1d array was expected. Please change the shape of y to (n_samples, ), for example using ravel().\n",
      "  y = column_or_1d(y, warn=True)\n",
      "C:\\Users\\User\\anaconda_the_righ_one\\lib\\site-packages\\sklearn\\utils\\validation.py:993: DataConversionWarning: A column-vector y was passed when a 1d array was expected. Please change the shape of y to (n_samples, ), for example using ravel().\n",
      "  y = column_or_1d(y, warn=True)\n",
      "C:\\Users\\User\\anaconda_the_righ_one\\lib\\site-packages\\sklearn\\utils\\validation.py:993: DataConversionWarning: A column-vector y was passed when a 1d array was expected. Please change the shape of y to (n_samples, ), for example using ravel().\n",
      "  y = column_or_1d(y, warn=True)\n",
      "C:\\Users\\User\\anaconda_the_righ_one\\lib\\site-packages\\sklearn\\utils\\validation.py:993: DataConversionWarning: A column-vector y was passed when a 1d array was expected. Please change the shape of y to (n_samples, ), for example using ravel().\n",
      "  y = column_or_1d(y, warn=True)\n",
      "C:\\Users\\User\\anaconda_the_righ_one\\lib\\site-packages\\sklearn\\utils\\validation.py:993: DataConversionWarning: A column-vector y was passed when a 1d array was expected. Please change the shape of y to (n_samples, ), for example using ravel().\n",
      "  y = column_or_1d(y, warn=True)\n",
      "C:\\Users\\User\\anaconda_the_righ_one\\lib\\site-packages\\sklearn\\utils\\validation.py:993: DataConversionWarning: A column-vector y was passed when a 1d array was expected. Please change the shape of y to (n_samples, ), for example using ravel().\n",
      "  y = column_or_1d(y, warn=True)\n",
      "C:\\Users\\User\\anaconda_the_righ_one\\lib\\site-packages\\sklearn\\utils\\validation.py:993: DataConversionWarning: A column-vector y was passed when a 1d array was expected. Please change the shape of y to (n_samples, ), for example using ravel().\n",
      "  y = column_or_1d(y, warn=True)\n",
      "C:\\Users\\User\\anaconda_the_righ_one\\lib\\site-packages\\sklearn\\utils\\validation.py:993: DataConversionWarning: A column-vector y was passed when a 1d array was expected. Please change the shape of y to (n_samples, ), for example using ravel().\n",
      "  y = column_or_1d(y, warn=True)\n",
      "C:\\Users\\User\\anaconda_the_righ_one\\lib\\site-packages\\sklearn\\utils\\validation.py:993: DataConversionWarning: A column-vector y was passed when a 1d array was expected. Please change the shape of y to (n_samples, ), for example using ravel().\n",
      "  y = column_or_1d(y, warn=True)\n",
      "C:\\Users\\User\\anaconda_the_righ_one\\lib\\site-packages\\sklearn\\utils\\validation.py:993: DataConversionWarning: A column-vector y was passed when a 1d array was expected. Please change the shape of y to (n_samples, ), for example using ravel().\n",
      "  y = column_or_1d(y, warn=True)\n",
      "C:\\Users\\User\\anaconda_the_righ_one\\lib\\site-packages\\sklearn\\utils\\validation.py:993: DataConversionWarning: A column-vector y was passed when a 1d array was expected. Please change the shape of y to (n_samples, ), for example using ravel().\n",
      "  y = column_or_1d(y, warn=True)\n",
      "C:\\Users\\User\\anaconda_the_righ_one\\lib\\site-packages\\sklearn\\utils\\validation.py:993: DataConversionWarning: A column-vector y was passed when a 1d array was expected. Please change the shape of y to (n_samples, ), for example using ravel().\n",
      "  y = column_or_1d(y, warn=True)\n",
      "C:\\Users\\User\\anaconda_the_righ_one\\lib\\site-packages\\sklearn\\utils\\validation.py:993: DataConversionWarning: A column-vector y was passed when a 1d array was expected. Please change the shape of y to (n_samples, ), for example using ravel().\n",
      "  y = column_or_1d(y, warn=True)\n",
      "C:\\Users\\User\\anaconda_the_righ_one\\lib\\site-packages\\sklearn\\utils\\validation.py:993: DataConversionWarning: A column-vector y was passed when a 1d array was expected. Please change the shape of y to (n_samples, ), for example using ravel().\n",
      "  y = column_or_1d(y, warn=True)\n",
      "C:\\Users\\User\\anaconda_the_righ_one\\lib\\site-packages\\sklearn\\utils\\validation.py:993: DataConversionWarning: A column-vector y was passed when a 1d array was expected. Please change the shape of y to (n_samples, ), for example using ravel().\n",
      "  y = column_or_1d(y, warn=True)\n",
      "C:\\Users\\User\\anaconda_the_righ_one\\lib\\site-packages\\sklearn\\utils\\validation.py:993: DataConversionWarning: A column-vector y was passed when a 1d array was expected. Please change the shape of y to (n_samples, ), for example using ravel().\n",
      "  y = column_or_1d(y, warn=True)\n",
      "C:\\Users\\User\\anaconda_the_righ_one\\lib\\site-packages\\sklearn\\utils\\validation.py:993: DataConversionWarning: A column-vector y was passed when a 1d array was expected. Please change the shape of y to (n_samples, ), for example using ravel().\n",
      "  y = column_or_1d(y, warn=True)\n",
      "C:\\Users\\User\\anaconda_the_righ_one\\lib\\site-packages\\sklearn\\utils\\validation.py:993: DataConversionWarning: A column-vector y was passed when a 1d array was expected. Please change the shape of y to (n_samples, ), for example using ravel().\n",
      "  y = column_or_1d(y, warn=True)\n",
      "C:\\Users\\User\\anaconda_the_righ_one\\lib\\site-packages\\sklearn\\utils\\validation.py:993: DataConversionWarning: A column-vector y was passed when a 1d array was expected. Please change the shape of y to (n_samples, ), for example using ravel().\n",
      "  y = column_or_1d(y, warn=True)\n",
      "C:\\Users\\User\\anaconda_the_righ_one\\lib\\site-packages\\sklearn\\utils\\validation.py:993: DataConversionWarning: A column-vector y was passed when a 1d array was expected. Please change the shape of y to (n_samples, ), for example using ravel().\n",
      "  y = column_or_1d(y, warn=True)\n",
      "C:\\Users\\User\\anaconda_the_righ_one\\lib\\site-packages\\sklearn\\utils\\validation.py:993: DataConversionWarning: A column-vector y was passed when a 1d array was expected. Please change the shape of y to (n_samples, ), for example using ravel().\n",
      "  y = column_or_1d(y, warn=True)\n",
      "C:\\Users\\User\\anaconda_the_righ_one\\lib\\site-packages\\sklearn\\utils\\validation.py:993: DataConversionWarning: A column-vector y was passed when a 1d array was expected. Please change the shape of y to (n_samples, ), for example using ravel().\n",
      "  y = column_or_1d(y, warn=True)\n",
      "C:\\Users\\User\\anaconda_the_righ_one\\lib\\site-packages\\sklearn\\utils\\validation.py:993: DataConversionWarning: A column-vector y was passed when a 1d array was expected. Please change the shape of y to (n_samples, ), for example using ravel().\n",
      "  y = column_or_1d(y, warn=True)\n",
      "C:\\Users\\User\\anaconda_the_righ_one\\lib\\site-packages\\sklearn\\utils\\validation.py:993: DataConversionWarning: A column-vector y was passed when a 1d array was expected. Please change the shape of y to (n_samples, ), for example using ravel().\n",
      "  y = column_or_1d(y, warn=True)\n",
      "C:\\Users\\User\\anaconda_the_righ_one\\lib\\site-packages\\sklearn\\utils\\validation.py:993: DataConversionWarning: A column-vector y was passed when a 1d array was expected. Please change the shape of y to (n_samples, ), for example using ravel().\n",
      "  y = column_or_1d(y, warn=True)\n",
      "C:\\Users\\User\\anaconda_the_righ_one\\lib\\site-packages\\sklearn\\utils\\validation.py:993: DataConversionWarning: A column-vector y was passed when a 1d array was expected. Please change the shape of y to (n_samples, ), for example using ravel().\n",
      "  y = column_or_1d(y, warn=True)\n",
      "C:\\Users\\User\\anaconda_the_righ_one\\lib\\site-packages\\sklearn\\utils\\validation.py:993: DataConversionWarning: A column-vector y was passed when a 1d array was expected. Please change the shape of y to (n_samples, ), for example using ravel().\n",
      "  y = column_or_1d(y, warn=True)\n",
      "C:\\Users\\User\\anaconda_the_righ_one\\lib\\site-packages\\sklearn\\utils\\validation.py:993: DataConversionWarning: A column-vector y was passed when a 1d array was expected. Please change the shape of y to (n_samples, ), for example using ravel().\n",
      "  y = column_or_1d(y, warn=True)\n",
      "C:\\Users\\User\\anaconda_the_righ_one\\lib\\site-packages\\sklearn\\utils\\validation.py:993: DataConversionWarning: A column-vector y was passed when a 1d array was expected. Please change the shape of y to (n_samples, ), for example using ravel().\n",
      "  y = column_or_1d(y, warn=True)\n",
      "C:\\Users\\User\\anaconda_the_righ_one\\lib\\site-packages\\sklearn\\utils\\validation.py:993: DataConversionWarning: A column-vector y was passed when a 1d array was expected. Please change the shape of y to (n_samples, ), for example using ravel().\n",
      "  y = column_or_1d(y, warn=True)\n",
      "C:\\Users\\User\\anaconda_the_righ_one\\lib\\site-packages\\sklearn\\utils\\validation.py:993: DataConversionWarning: A column-vector y was passed when a 1d array was expected. Please change the shape of y to (n_samples, ), for example using ravel().\n",
      "  y = column_or_1d(y, warn=True)\n",
      "C:\\Users\\User\\anaconda_the_righ_one\\lib\\site-packages\\sklearn\\utils\\validation.py:993: DataConversionWarning: A column-vector y was passed when a 1d array was expected. Please change the shape of y to (n_samples, ), for example using ravel().\n",
      "  y = column_or_1d(y, warn=True)\n",
      "C:\\Users\\User\\anaconda_the_righ_one\\lib\\site-packages\\sklearn\\utils\\validation.py:993: DataConversionWarning: A column-vector y was passed when a 1d array was expected. Please change the shape of y to (n_samples, ), for example using ravel().\n",
      "  y = column_or_1d(y, warn=True)\n",
      "C:\\Users\\User\\anaconda_the_righ_one\\lib\\site-packages\\sklearn\\utils\\validation.py:993: DataConversionWarning: A column-vector y was passed when a 1d array was expected. Please change the shape of y to (n_samples, ), for example using ravel().\n",
      "  y = column_or_1d(y, warn=True)\n",
      "C:\\Users\\User\\anaconda_the_righ_one\\lib\\site-packages\\sklearn\\utils\\validation.py:993: DataConversionWarning: A column-vector y was passed when a 1d array was expected. Please change the shape of y to (n_samples, ), for example using ravel().\n",
      "  y = column_or_1d(y, warn=True)\n",
      "C:\\Users\\User\\anaconda_the_righ_one\\lib\\site-packages\\sklearn\\utils\\validation.py:993: DataConversionWarning: A column-vector y was passed when a 1d array was expected. Please change the shape of y to (n_samples, ), for example using ravel().\n",
      "  y = column_or_1d(y, warn=True)\n",
      "C:\\Users\\User\\anaconda_the_righ_one\\lib\\site-packages\\sklearn\\utils\\validation.py:993: DataConversionWarning: A column-vector y was passed when a 1d array was expected. Please change the shape of y to (n_samples, ), for example using ravel().\n",
      "  y = column_or_1d(y, warn=True)\n",
      "C:\\Users\\User\\anaconda_the_righ_one\\lib\\site-packages\\sklearn\\utils\\validation.py:993: DataConversionWarning: A column-vector y was passed when a 1d array was expected. Please change the shape of y to (n_samples, ), for example using ravel().\n",
      "  y = column_or_1d(y, warn=True)\n",
      "C:\\Users\\User\\anaconda_the_righ_one\\lib\\site-packages\\sklearn\\utils\\validation.py:993: DataConversionWarning: A column-vector y was passed when a 1d array was expected. Please change the shape of y to (n_samples, ), for example using ravel().\n",
      "  y = column_or_1d(y, warn=True)\n"
     ]
    },
    {
     "name": "stdout",
     "output_type": "stream",
     "text": [
      "Best: 1.000000 using {'max_iter': 100, 'tol': 0.01}\n",
      "Accuracy of logistic regression classifier:  1.0\n"
     ]
    },
    {
     "name": "stderr",
     "output_type": "stream",
     "text": [
      "C:\\Users\\User\\anaconda_the_righ_one\\lib\\site-packages\\sklearn\\utils\\validation.py:993: DataConversionWarning: A column-vector y was passed when a 1d array was expected. Please change the shape of y to (n_samples, ), for example using ravel().\n",
      "  y = column_or_1d(y, warn=True)\n",
      "C:\\Users\\User\\anaconda_the_righ_one\\lib\\site-packages\\sklearn\\utils\\validation.py:993: DataConversionWarning: A column-vector y was passed when a 1d array was expected. Please change the shape of y to (n_samples, ), for example using ravel().\n",
      "  y = column_or_1d(y, warn=True)\n",
      "C:\\Users\\User\\anaconda_the_righ_one\\lib\\site-packages\\sklearn\\utils\\validation.py:993: DataConversionWarning: A column-vector y was passed when a 1d array was expected. Please change the shape of y to (n_samples, ), for example using ravel().\n",
      "  y = column_or_1d(y, warn=True)\n",
      "C:\\Users\\User\\anaconda_the_righ_one\\lib\\site-packages\\sklearn\\utils\\validation.py:993: DataConversionWarning: A column-vector y was passed when a 1d array was expected. Please change the shape of y to (n_samples, ), for example using ravel().\n",
      "  y = column_or_1d(y, warn=True)\n"
     ]
    }
   ],
   "source": [
    "# Instantiate GridSearchCV with the required parameters\n",
    "grid_model = GridSearchCV(estimator=logreg, param_grid=param_grid, cv=5)\n",
    "\n",
    "# Fit grid_model to the data\n",
    "grid_model_result = grid_model.fit(rescaledX_train, y_train)\n",
    "\n",
    "# Summarize results\n",
    "best_score, best_params = grid_model_result.best_score_, grid_model_result.best_params_\n",
    "print(\"Best: %f using %s\" % (best_score, best_params))\n",
    "\n",
    "# Extract the best model and evaluate it on the test set\n",
    "best_model = grid_model_result.best_estimator_\n",
    "print(\"Accuracy of logistic regression classifier: \", best_model.score(rescaledX_test,y_test))"
   ]
  },
  {
   "cell_type": "code",
   "execution_count": 100,
   "id": "22ab9a60-9aac-4da8-8183-e28e63f7bc05",
   "metadata": {},
   "outputs": [],
   "source": [
    "# Pierwszy moduł\n",
    "def czyPierwsza(n):\n",
    "    if (n == 1 or n == 0):\n",
    "        return False\n",
    "    for i in range(2, n):\n",
    "        if (n % i == 0):\n",
    "            return False\n",
    "\n",
    "    return True\n",
    "\n",
    "\n",
    "def pierwsza(N):\n",
    "    for i in range(1, N + 1):\n",
    "        if(czyPierwsza(i)):\n",
    "            print(i, end=\" \")"
   ]
  },
  {
   "cell_type": "code",
   "execution_count": 89,
   "id": "c61c3f21-57b4-4086-8968-675b40a2ca73",
   "metadata": {},
   "outputs": [
    {
     "name": "stdout",
     "output_type": "stream",
     "text": [
      "2 3 5 7 11 13 17 19 23 29 31 37 41 43 47 53 59 61 67 71 73 "
     ]
    }
   ],
   "source": [
    "#test\n",
    "pierwsza(78)"
   ]
  }
 ],
 "metadata": {
  "kernelspec": {
   "display_name": "Python 3 (ipykernel)",
   "language": "python",
   "name": "python3"
  },
  "language_info": {
   "codemirror_mode": {
    "name": "ipython",
    "version": 3
   },
   "file_extension": ".py",
   "mimetype": "text/x-python",
   "name": "python",
   "nbconvert_exporter": "python",
   "pygments_lexer": "ipython3",
   "version": "3.9.13"
  },
  "toc-autonumbering": false,
  "toc-showcode": true,
  "toc-showmarkdowntxt": true
 },
 "nbformat": 4,
 "nbformat_minor": 5
}
